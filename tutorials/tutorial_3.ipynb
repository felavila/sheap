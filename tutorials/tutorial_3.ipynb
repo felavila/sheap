{
 "cells": [
  {
   "cell_type": "markdown",
   "id": "817be81b",
   "metadata": {},
   "source": [
    "# Playing with Params."
   ]
  },
  {
   "cell_type": "markdown",
   "id": "b9c5b8ce",
   "metadata": {},
   "source": []
  }
 ],
 "metadata": {
  "language_info": {
   "name": "python"
  }
 },
 "nbformat": 4,
 "nbformat_minor": 5
}
