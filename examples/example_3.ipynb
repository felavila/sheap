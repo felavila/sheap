{
 "cells": [
  {
   "cell_type": "code",
   "execution_count": null,
   "id": "c84334a1",
   "metadata": {},
   "outputs": [],
   "source": [
    "### Playing with Params."
   ]
  }
 ],
 "metadata": {
  "language_info": {
   "name": "python"
  }
 },
 "nbformat": 4,
 "nbformat_minor": 5
}
