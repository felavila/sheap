{
 "cells": [
  {
   "cell_type": "code",
   "execution_count": null,
   "metadata": {},
   "outputs": [
    {
     "name": "stderr",
     "output_type": "stream",
     "text": [
      "/home/favila/miniforge3/envs/jax/lib/python3.12/site-packages/jax/_src/numpy/lax_numpy.py:5411: RuntimeWarning: overflow encountered in cast\n",
      "  out = np.asarray(object, dtype=dtype)\n"
     ]
    }
   ],
   "source": [
    "#from SHEAP.fitting.functions import linear,GaussianSum,linear2,combine_auto\n",
    "from SHEAP.fitting.functions import GaussianSum\n",
    "from SHEAP.main_sheap import Sheapectral \n",
    "from SHEAP.spectra_readers import parallel_reader \n",
    "from SHEAP.complex_region.region import ComplexRegion\n",
    "from SHEAP.ploting import *\n",
    "from SHEAP.host_sub.start_method import Extract_host_star\n",
    "from SHEAP.tools.others import wl_to_kms\n",
    "from SHEAP.fe_handler import fe_template_read,galaxy_template_read\n",
    "from SHEAP.complex_region.building_region import RegionBuilder\n",
    "from SHEAP.complex_region.fit_fe import fe_template_read\n",
    "from SHEAP.utils import mask_builder\n",
    "from paths_func import cross_pandas_spectra"
   ]
  },
  {
   "cell_type": "code",
   "execution_count": null,
   "metadata": {},
   "outputs": [],
   "source": [
    "import jax \n",
    "from jax import jit \n",
    "import jax.numpy as jnp\n",
    "import glob \n",
    "import os \n",
    "import pandas as pd \n",
    "import matplotlib.pyplot as plt \n",
    "import pickle \n",
    "jax.config.update(\"jax_enable_x64\", True)"
   ]
  },
  {
   "cell_type": "code",
   "execution_count": null,
   "metadata": {},
   "outputs": [],
   "source": [
    "pickles = glob.glob(\"pickles/*\")\n",
    "super_dict = {}\n",
    "for i in pickles:\n",
    "    with open(i, \"rb\") as file:\n",
    "        flux_dict = pickle.load(file)\n",
    "        new_dict = {}\n",
    "        for key,value in flux_dict.items():\n",
    "            obj,band = key.split(\"_\")\n",
    "            \n",
    "            new_dict[f\"{obj}_{band.lower()}_new_epoch\"] = value\n",
    "        super_dict.update(new_dict)\n",
    "pickles = glob.glob(\"f_h/*.pickle\")"
   ]
  },
  {
   "cell_type": "markdown",
   "metadata": {},
   "source": [
    "# 2038"
   ]
  },
  {
   "cell_type": "markdown",
   "metadata": {},
   "source": [
    "#### NIR"
   ]
  }
 ],
 "metadata": {
  "kernelspec": {
   "display_name": "jax",
   "language": "python",
   "name": "python3"
  },
  "language_info": {
   "codemirror_mode": {
    "name": "ipython",
    "version": 3
   },
   "file_extension": ".py",
   "mimetype": "text/x-python",
   "name": "python",
   "nbconvert_exporter": "python",
   "pygments_lexer": "ipython3",
   "version": "3.12.8"
  }
 },
 "nbformat": 4,
 "nbformat_minor": 2
}
