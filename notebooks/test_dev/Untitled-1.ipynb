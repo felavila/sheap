{
 "cells": [
  {
   "cell_type": "code",
   "execution_count": 1,
   "metadata": {},
   "outputs": [],
   "source": [
    "\"\"\"\n",
    "Example demonstrating how to fit a complex H-alpha profile after subtracting off a satellite line \n",
    "(in this case, He I 6678.151704)\n",
    "\"\"\"\n",
    "from __future__ import print_function\n",
    "import pyspeckit\n",
    "from astropy import units as u"
   ]
  },
  {
   "cell_type": "code",
   "execution_count": null,
   "metadata": {},
   "outputs": [
    {
     "data": {
      "text/plain": [
       "3351.0194731303422"
      ]
     },
     "execution_count": 16,
     "metadata": {},
     "output_type": "execute_result"
    }
   ],
   "source": []
  },
  {
   "cell_type": "code",
   "execution_count": 13,
   "metadata": {},
   "outputs": [],
   "source": [
    "z = 1\n",
    "cosmology = pyspeckit.cosmology.Cosmology()\n",
    "d = cosmology.LuminosityDistance(z) #* #cm_per_mpc"
   ]
  },
  {
   "cell_type": "code",
   "execution_count": null,
   "metadata": {},
   "outputs": [
    {
     "data": {
      "text/plain": [
       "'/home/felipe/miniconda3/envs/SHEAP/lib/python3.10/site-packages/pyspeckit/__init__.py'"
      ]
     },
     "execution_count": 3,
     "metadata": {},
     "output_type": "execute_result"
    }
   ],
   "source": [
    "/home/felipe/miniconda3/envs/SHEAP/lib/python3.10/site-packages/pyspeckit"
   ]
  },
  {
   "cell_type": "code",
   "execution_count": 2,
   "metadata": {},
   "outputs": [
    {
     "ename": "FileNotFoundError",
     "evalue": "[Errno 2] No such file or directory: 'sn2009ip_halpha.fits'",
     "output_type": "error",
     "traceback": [
      "\u001b[0;31m---------------------------------------------------------------------------\u001b[0m",
      "\u001b[0;31mFileNotFoundError\u001b[0m                         Traceback (most recent call last)",
      "Cell \u001b[0;32mIn[2], line 1\u001b[0m\n\u001b[0;32m----> 1\u001b[0m sp \u001b[38;5;241m=\u001b[39m \u001b[43mpyspeckit\u001b[49m\u001b[38;5;241;43m.\u001b[39;49m\u001b[43mOpticalSpectrum\u001b[49m\u001b[43m(\u001b[49m\u001b[38;5;124;43m'\u001b[39;49m\u001b[38;5;124;43msn2009ip_halpha.fits\u001b[39;49m\u001b[38;5;124;43m'\u001b[39;49m\u001b[43m)\u001b[49m\n",
      "File \u001b[0;32m~/miniconda3/envs/SHEAP/lib/python3.10/site-packages/pyspeckit/spectrum/classes.py:166\u001b[0m, in \u001b[0;36mBaseSpectrum.__init__\u001b[0;34m(self, filename_or_magic, filetype, xarr, data, error, header, doplot, maskdata, unit, plotkwargs, xarrkwargs, model_registry, filename, **kwargs)\u001b[0m\n\u001b[1;32m    163\u001b[0m     \u001b[38;5;28;01melse\u001b[39;00m:\n\u001b[1;32m    164\u001b[0m         \u001b[38;5;28;01mraise\u001b[39;00m \u001b[38;5;167;01mTypeError\u001b[39;00m(\u001b[38;5;124m\"\u001b[39m\u001b[38;5;124mFiletype \u001b[39m\u001b[38;5;132;01m%s\u001b[39;00m\u001b[38;5;124m not recognized\u001b[39m\u001b[38;5;124m\"\u001b[39m \u001b[38;5;241m%\u001b[39m filetype)\n\u001b[0;32m--> 166\u001b[0m \u001b[38;5;28mself\u001b[39m\u001b[38;5;241m.\u001b[39mdata,\u001b[38;5;28mself\u001b[39m\u001b[38;5;241m.\u001b[39merror,\u001b[38;5;28mself\u001b[39m\u001b[38;5;241m.\u001b[39mxarr,\u001b[38;5;28mself\u001b[39m\u001b[38;5;241m.\u001b[39mheader \u001b[38;5;241m=\u001b[39m \u001b[43mreader\u001b[49m\u001b[43m(\u001b[49m\u001b[43mfilename\u001b[49m\u001b[43m,\u001b[49m\u001b[38;5;241;43m*\u001b[39;49m\u001b[38;5;241;43m*\u001b[39;49m\u001b[43mkwargs\u001b[49m\u001b[43m)\u001b[49m\n\u001b[1;32m    168\u001b[0m \u001b[38;5;66;03m# these should probably be replaced with registerable function s...\u001b[39;00m\n\u001b[1;32m    169\u001b[0m \u001b[38;5;28;01mif\u001b[39;00m filetype \u001b[38;5;129;01min\u001b[39;00m (\u001b[38;5;124m'\u001b[39m\u001b[38;5;124mfits\u001b[39m\u001b[38;5;124m'\u001b[39m,\u001b[38;5;124m'\u001b[39m\u001b[38;5;124mtspec\u001b[39m\u001b[38;5;124m'\u001b[39m,\u001b[38;5;124m'\u001b[39m\u001b[38;5;124mpyfits\u001b[39m\u001b[38;5;124m'\u001b[39m,\u001b[38;5;124m'\u001b[39m\u001b[38;5;124msdss\u001b[39m\u001b[38;5;124m'\u001b[39m):\n",
      "File \u001b[0;32m~/miniconda3/envs/SHEAP/lib/python3.10/site-packages/pyspeckit/spectrum/readers/__init__.py:76\u001b[0m, in \u001b[0;36mcheck_reader.<locals>.reader\u001b[0;34m(*args, **kwargs)\u001b[0m\n\u001b[1;32m     75\u001b[0m \u001b[38;5;28;01mdef\u001b[39;00m \u001b[38;5;21mreader\u001b[39m(\u001b[38;5;241m*\u001b[39margs,\u001b[38;5;241m*\u001b[39m\u001b[38;5;241m*\u001b[39mkwargs):\n\u001b[0;32m---> 76\u001b[0m     returns \u001b[38;5;241m=\u001b[39m \u001b[43mfunc\u001b[49m\u001b[43m(\u001b[49m\u001b[38;5;241;43m*\u001b[39;49m\u001b[43margs\u001b[49m\u001b[43m,\u001b[49m\u001b[38;5;241;43m*\u001b[39;49m\u001b[38;5;241;43m*\u001b[39;49m\u001b[43mkwargs\u001b[49m\u001b[43m)\u001b[49m\n\u001b[1;32m     77\u001b[0m     \u001b[38;5;28;01mif\u001b[39;00m \u001b[38;5;28mlen\u001b[39m(returns) \u001b[38;5;241m!=\u001b[39m \u001b[38;5;241m4\u001b[39m:\n\u001b[1;32m     78\u001b[0m         \u001b[38;5;28;01mraise\u001b[39;00m ReaderError(\u001b[38;5;124m\"\u001b[39m\u001b[38;5;124mError: reader returns \u001b[39m\u001b[38;5;132;01m%i\u001b[39;00m\u001b[38;5;124m parameters instead of 4.\u001b[39m\u001b[38;5;124m\"\u001b[39m \u001b[38;5;241m%\u001b[39m \u001b[38;5;28mlen\u001b[39m(returns))\n",
      "File \u001b[0;32m~/miniconda3/envs/SHEAP/lib/python3.10/site-packages/pyspeckit/spectrum/readers/fits_reader.py:35\u001b[0m, in \u001b[0;36mopen_1d_fits\u001b[0;34m(filename, hdu, **kwargs)\u001b[0m\n\u001b[1;32m     33\u001b[0m     f \u001b[38;5;241m=\u001b[39m filename\n\u001b[1;32m     34\u001b[0m \u001b[38;5;28;01melse\u001b[39;00m:\n\u001b[0;32m---> 35\u001b[0m     f \u001b[38;5;241m=\u001b[39m \u001b[43mpyfits\u001b[49m\u001b[38;5;241;43m.\u001b[39;49m\u001b[43mopen\u001b[49m\u001b[43m(\u001b[49m\u001b[43mfilename\u001b[49m\u001b[43m,\u001b[49m\u001b[43m \u001b[49m\u001b[43mignore_missing_end\u001b[49m\u001b[38;5;241;43m=\u001b[39;49m\u001b[38;5;28;43;01mTrue\u001b[39;49;00m\u001b[43m)\u001b[49m\n\u001b[1;32m     37\u001b[0m \u001b[38;5;28;01mreturn\u001b[39;00m open_1d_pyfits(f[hdu],\u001b[38;5;241m*\u001b[39m\u001b[38;5;241m*\u001b[39mkwargs)\n",
      "File \u001b[0;32m~/miniconda3/envs/SHEAP/lib/python3.10/site-packages/astropy/io/fits/hdu/hdulist.py:223\u001b[0m, in \u001b[0;36mfitsopen\u001b[0;34m(name, mode, memmap, save_backup, cache, lazy_load_hdus, ignore_missing_simple, use_fsspec, fsspec_kwargs, decompress_in_memory, **kwargs)\u001b[0m\n\u001b[1;32m    220\u001b[0m \u001b[38;5;28;01mif\u001b[39;00m \u001b[38;5;129;01mnot\u001b[39;00m name:\n\u001b[1;32m    221\u001b[0m     \u001b[38;5;28;01mraise\u001b[39;00m \u001b[38;5;167;01mValueError\u001b[39;00m(\u001b[38;5;124mf\u001b[39m\u001b[38;5;124m\"\u001b[39m\u001b[38;5;124mEmpty filename: \u001b[39m\u001b[38;5;132;01m{\u001b[39;00mname\u001b[38;5;132;01m!r}\u001b[39;00m\u001b[38;5;124m\"\u001b[39m)\n\u001b[0;32m--> 223\u001b[0m \u001b[38;5;28;01mreturn\u001b[39;00m \u001b[43mHDUList\u001b[49m\u001b[38;5;241;43m.\u001b[39;49m\u001b[43mfromfile\u001b[49m\u001b[43m(\u001b[49m\n\u001b[1;32m    224\u001b[0m \u001b[43m    \u001b[49m\u001b[43mname\u001b[49m\u001b[43m,\u001b[49m\n\u001b[1;32m    225\u001b[0m \u001b[43m    \u001b[49m\u001b[43mmode\u001b[49m\u001b[43m,\u001b[49m\n\u001b[1;32m    226\u001b[0m \u001b[43m    \u001b[49m\u001b[43mmemmap\u001b[49m\u001b[43m,\u001b[49m\n\u001b[1;32m    227\u001b[0m \u001b[43m    \u001b[49m\u001b[43msave_backup\u001b[49m\u001b[43m,\u001b[49m\n\u001b[1;32m    228\u001b[0m \u001b[43m    \u001b[49m\u001b[43mcache\u001b[49m\u001b[43m,\u001b[49m\n\u001b[1;32m    229\u001b[0m \u001b[43m    \u001b[49m\u001b[43mlazy_load_hdus\u001b[49m\u001b[43m,\u001b[49m\n\u001b[1;32m    230\u001b[0m \u001b[43m    \u001b[49m\u001b[43mignore_missing_simple\u001b[49m\u001b[43m,\u001b[49m\n\u001b[1;32m    231\u001b[0m \u001b[43m    \u001b[49m\u001b[43muse_fsspec\u001b[49m\u001b[38;5;241;43m=\u001b[39;49m\u001b[43muse_fsspec\u001b[49m\u001b[43m,\u001b[49m\n\u001b[1;32m    232\u001b[0m \u001b[43m    \u001b[49m\u001b[43mfsspec_kwargs\u001b[49m\u001b[38;5;241;43m=\u001b[39;49m\u001b[43mfsspec_kwargs\u001b[49m\u001b[43m,\u001b[49m\n\u001b[1;32m    233\u001b[0m \u001b[43m    \u001b[49m\u001b[43mdecompress_in_memory\u001b[49m\u001b[38;5;241;43m=\u001b[39;49m\u001b[43mdecompress_in_memory\u001b[49m\u001b[43m,\u001b[49m\n\u001b[1;32m    234\u001b[0m \u001b[43m    \u001b[49m\u001b[38;5;241;43m*\u001b[39;49m\u001b[38;5;241;43m*\u001b[39;49m\u001b[43mkwargs\u001b[49m\u001b[43m,\u001b[49m\n\u001b[1;32m    235\u001b[0m \u001b[43m\u001b[49m\u001b[43m)\u001b[49m\n",
      "File \u001b[0;32m~/miniconda3/envs/SHEAP/lib/python3.10/site-packages/astropy/io/fits/hdu/hdulist.py:487\u001b[0m, in \u001b[0;36mHDUList.fromfile\u001b[0;34m(cls, fileobj, mode, memmap, save_backup, cache, lazy_load_hdus, ignore_missing_simple, **kwargs)\u001b[0m\n\u001b[1;32m    468\u001b[0m \u001b[38;5;129m@classmethod\u001b[39m\n\u001b[1;32m    469\u001b[0m \u001b[38;5;28;01mdef\u001b[39;00m \u001b[38;5;21mfromfile\u001b[39m(\n\u001b[1;32m    470\u001b[0m     \u001b[38;5;28mcls\u001b[39m,\n\u001b[0;32m   (...)\u001b[0m\n\u001b[1;32m    478\u001b[0m     \u001b[38;5;241m*\u001b[39m\u001b[38;5;241m*\u001b[39mkwargs,\n\u001b[1;32m    479\u001b[0m ):\n\u001b[1;32m    480\u001b[0m \u001b[38;5;250m    \u001b[39m\u001b[38;5;124;03m\"\"\"\u001b[39;00m\n\u001b[1;32m    481\u001b[0m \u001b[38;5;124;03m    Creates an `HDUList` instance from a file-like object.\u001b[39;00m\n\u001b[1;32m    482\u001b[0m \n\u001b[0;32m   (...)\u001b[0m\n\u001b[1;32m    485\u001b[0m \u001b[38;5;124;03m    documentation for details of the parameters accepted by this method).\u001b[39;00m\n\u001b[1;32m    486\u001b[0m \u001b[38;5;124;03m    \"\"\"\u001b[39;00m\n\u001b[0;32m--> 487\u001b[0m     \u001b[38;5;28;01mreturn\u001b[39;00m \u001b[38;5;28;43mcls\u001b[39;49m\u001b[38;5;241;43m.\u001b[39;49m\u001b[43m_readfrom\u001b[49m\u001b[43m(\u001b[49m\n\u001b[1;32m    488\u001b[0m \u001b[43m        \u001b[49m\u001b[43mfileobj\u001b[49m\u001b[38;5;241;43m=\u001b[39;49m\u001b[43mfileobj\u001b[49m\u001b[43m,\u001b[49m\n\u001b[1;32m    489\u001b[0m \u001b[43m        \u001b[49m\u001b[43mmode\u001b[49m\u001b[38;5;241;43m=\u001b[39;49m\u001b[43mmode\u001b[49m\u001b[43m,\u001b[49m\n\u001b[1;32m    490\u001b[0m \u001b[43m        \u001b[49m\u001b[43mmemmap\u001b[49m\u001b[38;5;241;43m=\u001b[39;49m\u001b[43mmemmap\u001b[49m\u001b[43m,\u001b[49m\n\u001b[1;32m    491\u001b[0m \u001b[43m        \u001b[49m\u001b[43msave_backup\u001b[49m\u001b[38;5;241;43m=\u001b[39;49m\u001b[43msave_backup\u001b[49m\u001b[43m,\u001b[49m\n\u001b[1;32m    492\u001b[0m \u001b[43m        \u001b[49m\u001b[43mcache\u001b[49m\u001b[38;5;241;43m=\u001b[39;49m\u001b[43mcache\u001b[49m\u001b[43m,\u001b[49m\n\u001b[1;32m    493\u001b[0m \u001b[43m        \u001b[49m\u001b[43mignore_missing_simple\u001b[49m\u001b[38;5;241;43m=\u001b[39;49m\u001b[43mignore_missing_simple\u001b[49m\u001b[43m,\u001b[49m\n\u001b[1;32m    494\u001b[0m \u001b[43m        \u001b[49m\u001b[43mlazy_load_hdus\u001b[49m\u001b[38;5;241;43m=\u001b[39;49m\u001b[43mlazy_load_hdus\u001b[49m\u001b[43m,\u001b[49m\n\u001b[1;32m    495\u001b[0m \u001b[43m        \u001b[49m\u001b[38;5;241;43m*\u001b[39;49m\u001b[38;5;241;43m*\u001b[39;49m\u001b[43mkwargs\u001b[49m\u001b[43m,\u001b[49m\n\u001b[1;32m    496\u001b[0m \u001b[43m    \u001b[49m\u001b[43m)\u001b[49m\n",
      "File \u001b[0;32m~/miniconda3/envs/SHEAP/lib/python3.10/site-packages/astropy/io/fits/hdu/hdulist.py:1169\u001b[0m, in \u001b[0;36mHDUList._readfrom\u001b[0;34m(cls, fileobj, data, mode, memmap, cache, lazy_load_hdus, ignore_missing_simple, use_fsspec, fsspec_kwargs, decompress_in_memory, **kwargs)\u001b[0m\n\u001b[1;32m   1166\u001b[0m \u001b[38;5;28;01mif\u001b[39;00m fileobj \u001b[38;5;129;01mis\u001b[39;00m \u001b[38;5;129;01mnot\u001b[39;00m \u001b[38;5;28;01mNone\u001b[39;00m:\n\u001b[1;32m   1167\u001b[0m     \u001b[38;5;28;01mif\u001b[39;00m \u001b[38;5;129;01mnot\u001b[39;00m \u001b[38;5;28misinstance\u001b[39m(fileobj, _File):\n\u001b[1;32m   1168\u001b[0m         \u001b[38;5;66;03m# instantiate a FITS file object (ffo)\u001b[39;00m\n\u001b[0;32m-> 1169\u001b[0m         fileobj \u001b[38;5;241m=\u001b[39m \u001b[43m_File\u001b[49m\u001b[43m(\u001b[49m\n\u001b[1;32m   1170\u001b[0m \u001b[43m            \u001b[49m\u001b[43mfileobj\u001b[49m\u001b[43m,\u001b[49m\n\u001b[1;32m   1171\u001b[0m \u001b[43m            \u001b[49m\u001b[43mmode\u001b[49m\u001b[38;5;241;43m=\u001b[39;49m\u001b[43mmode\u001b[49m\u001b[43m,\u001b[49m\n\u001b[1;32m   1172\u001b[0m \u001b[43m            \u001b[49m\u001b[43mmemmap\u001b[49m\u001b[38;5;241;43m=\u001b[39;49m\u001b[43mmemmap\u001b[49m\u001b[43m,\u001b[49m\n\u001b[1;32m   1173\u001b[0m \u001b[43m            \u001b[49m\u001b[43mcache\u001b[49m\u001b[38;5;241;43m=\u001b[39;49m\u001b[43mcache\u001b[49m\u001b[43m,\u001b[49m\n\u001b[1;32m   1174\u001b[0m \u001b[43m            \u001b[49m\u001b[43muse_fsspec\u001b[49m\u001b[38;5;241;43m=\u001b[39;49m\u001b[43muse_fsspec\u001b[49m\u001b[43m,\u001b[49m\n\u001b[1;32m   1175\u001b[0m \u001b[43m            \u001b[49m\u001b[43mfsspec_kwargs\u001b[49m\u001b[38;5;241;43m=\u001b[39;49m\u001b[43mfsspec_kwargs\u001b[49m\u001b[43m,\u001b[49m\n\u001b[1;32m   1176\u001b[0m \u001b[43m            \u001b[49m\u001b[43mdecompress_in_memory\u001b[49m\u001b[38;5;241;43m=\u001b[39;49m\u001b[43mdecompress_in_memory\u001b[49m\u001b[43m,\u001b[49m\n\u001b[1;32m   1177\u001b[0m \u001b[43m        \u001b[49m\u001b[43m)\u001b[49m\n\u001b[1;32m   1178\u001b[0m     \u001b[38;5;66;03m# The Astropy mode is determined by the _File initializer if the\u001b[39;00m\n\u001b[1;32m   1179\u001b[0m     \u001b[38;5;66;03m# supplied mode was None\u001b[39;00m\n\u001b[1;32m   1180\u001b[0m     mode \u001b[38;5;241m=\u001b[39m fileobj\u001b[38;5;241m.\u001b[39mmode\n",
      "File \u001b[0;32m~/miniconda3/envs/SHEAP/lib/python3.10/site-packages/astropy/io/fits/file.py:218\u001b[0m, in \u001b[0;36m_File.__init__\u001b[0;34m(self, fileobj, mode, memmap, overwrite, cache, use_fsspec, fsspec_kwargs, decompress_in_memory)\u001b[0m\n\u001b[1;32m    216\u001b[0m     \u001b[38;5;28mself\u001b[39m\u001b[38;5;241m.\u001b[39m_open_fileobj(fileobj, mode, overwrite)\n\u001b[1;32m    217\u001b[0m \u001b[38;5;28;01melif\u001b[39;00m \u001b[38;5;28misinstance\u001b[39m(fileobj, (\u001b[38;5;28mstr\u001b[39m, \u001b[38;5;28mbytes\u001b[39m)):\n\u001b[0;32m--> 218\u001b[0m     \u001b[38;5;28;43mself\u001b[39;49m\u001b[38;5;241;43m.\u001b[39;49m\u001b[43m_open_filename\u001b[49m\u001b[43m(\u001b[49m\u001b[43mfileobj\u001b[49m\u001b[43m,\u001b[49m\u001b[43m \u001b[49m\u001b[43mmode\u001b[49m\u001b[43m,\u001b[49m\u001b[43m \u001b[49m\u001b[43moverwrite\u001b[49m\u001b[43m)\u001b[49m\n\u001b[1;32m    219\u001b[0m \u001b[38;5;28;01melse\u001b[39;00m:\n\u001b[1;32m    220\u001b[0m     \u001b[38;5;28mself\u001b[39m\u001b[38;5;241m.\u001b[39m_open_filelike(fileobj, mode, overwrite)\n",
      "File \u001b[0;32m~/miniconda3/envs/SHEAP/lib/python3.10/site-packages/astropy/io/fits/file.py:651\u001b[0m, in \u001b[0;36m_File._open_filename\u001b[0;34m(self, filename, mode, overwrite)\u001b[0m\n\u001b[1;32m    648\u001b[0m ext \u001b[38;5;241m=\u001b[39m os\u001b[38;5;241m.\u001b[39mpath\u001b[38;5;241m.\u001b[39msplitext(\u001b[38;5;28mself\u001b[39m\u001b[38;5;241m.\u001b[39mname)[\u001b[38;5;241m1\u001b[39m]\n\u001b[1;32m    650\u001b[0m \u001b[38;5;28;01mif\u001b[39;00m \u001b[38;5;129;01mnot\u001b[39;00m \u001b[38;5;28mself\u001b[39m\u001b[38;5;241m.\u001b[39m_try_read_compressed(\u001b[38;5;28mself\u001b[39m\u001b[38;5;241m.\u001b[39mname, magic, mode, ext\u001b[38;5;241m=\u001b[39mext):\n\u001b[0;32m--> 651\u001b[0m     \u001b[38;5;28mself\u001b[39m\u001b[38;5;241m.\u001b[39m_file \u001b[38;5;241m=\u001b[39m \u001b[38;5;28;43mopen\u001b[39;49m\u001b[43m(\u001b[49m\u001b[38;5;28;43mself\u001b[39;49m\u001b[38;5;241;43m.\u001b[39;49m\u001b[43mname\u001b[49m\u001b[43m,\u001b[49m\u001b[43m \u001b[49m\u001b[43mIO_FITS_MODES\u001b[49m\u001b[43m[\u001b[49m\u001b[43mmode\u001b[49m\u001b[43m]\u001b[49m\u001b[43m)\u001b[49m\n\u001b[1;32m    652\u001b[0m     \u001b[38;5;28mself\u001b[39m\u001b[38;5;241m.\u001b[39mclose_on_error \u001b[38;5;241m=\u001b[39m \u001b[38;5;28;01mTrue\u001b[39;00m\n\u001b[1;32m    654\u001b[0m \u001b[38;5;66;03m# Make certain we're back at the beginning of the file\u001b[39;00m\n\u001b[1;32m    655\u001b[0m \u001b[38;5;66;03m# BZ2File does not support seek when the file is open for writing, but\u001b[39;00m\n\u001b[1;32m    656\u001b[0m \u001b[38;5;66;03m# when opening a file for write, bz2.BZ2File always truncates anyway.\u001b[39;00m\n",
      "\u001b[0;31mFileNotFoundError\u001b[0m: [Errno 2] No such file or directory: 'sn2009ip_halpha.fits'"
     ]
    }
   ],
   "source": [
    "sp = pyspeckit.OpticalSpectrum('sn2009ip_halpha.fits')"
   ]
  },
  {
   "cell_type": "code",
   "execution_count": null,
   "metadata": {},
   "outputs": [],
   "source": [
    "\n",
    "\n",
    "\n",
    "\n",
    "# start by plotting a small region around the H-alpha line\n",
    "# xmin=u.Quantity(6100, sp.xarr.unit)\n",
    "# xmax=u.Quantity(7000, sp.xarr.unit)\n",
    "# ymin=u.Quantity(0, sp.unit)\n",
    "# ymax=u.Quantity(2.23, sp.unit)\n",
    "sp.plotter(xmin=6100*u.AA, xmax=7000*u.AA, ymax=2.23*u.dimensionless_unscaled, ymin=0*u.dimensionless_unscaled)\n",
    "# sp.plotter(xmin=xmin,xmax=xmax,ymax=ymax,ymin=ymin)\n",
    "\n",
    "# the baseline (continuum) fit will be 2nd order, and excludes \"bad\"\n",
    "# parts of the spectrum\n",
    "# The exclusion zone was selected interatively (i.e., cursor hovering over the spectrum)\n",
    "sp.baseline(xmin=6100, xmax=7000,\n",
    "        exclude=[6450,6746,6815,6884,7003,7126,7506,7674,8142,8231],\n",
    "        subtract=False, reset_selection=True, highlight_fitregion=True,\n",
    "        order=2)\n",
    "\n",
    "# Fit a 4-parameter voigt (figured out through a series if guess and check fits)\n",
    "sp.specfit(guesses=[2.4007096541802202,  6563.2307968382256, 3.5653446153950314,  1,\n",
    "                    0.53985149324131965, 6564.3460908526877, 19.443226155616617,  1,\n",
    "                    0.11957267912208754, 6678.3853431367716, 4.1892742162283181,  1,\n",
    "                    0.10506431180136294, 6589.9310414408683, 72.378997529374672,  1,],\n",
    "                    fittype='voigt')\n",
    "\n",
    "# Now overplot the fitted components with an offset so we can see them\n",
    "# the add_baseline=True bit means that each component will be displayed with the \"Continuum\" added\n",
    "# If this was off, the components would be displayed at y=0\n",
    "# the component_yoffset is the offset to add to the continuum for plotting only (a constant)\n",
    "sp.specfit.plot_components(add_baseline=True,component_yoffset=-0.2)\n",
    "\n",
    "# Now overplot the residuals on the same graph by specifying which axis to overplot it on\n",
    "# clear=False is needed to keep the original fitted plot drawn\n",
    "# yoffset is the offset from y=zero\n",
    "sp.specfit.plotresiduals(axis=sp.plotter.axis,clear=False,yoffset=0.20,label=False)\n",
    "\n",
    "# save the figure\n",
    "sp.plotter.savefig(\"SN2009ip_UT121002_Halpha_voigt_zoom.png\")\n",
    "\n",
    "# print the fit results in table form\n",
    "# This includes getting the equivalent width for each component using sp.specfit.EQW\n",
    "print(\" \".join([\"%15s %15s\" % (s,s+\"err\") for s in sp.specfit.parinfo.parnames]),\" \".join([\"%15s\" % (\"EQW\"+str(i)) for i,w in enumerate(sp.specfit.EQW(components=True))]))\n",
    "print(\" \".join([\"%15g %15g\" % (par.value,par.error) for par in sp.specfit.parinfo]),\" \".join([\"%15g\" % w for w in sp.specfit.EQW(components=True)]))\n",
    "\n",
    "# here are some other fitted parameters that can be printed:\n",
    "print(\"Fitted EQW:\", sp.specfit.EQW())\n",
    "print(\"Direct EQW:\", sp.specfit.EQW(fitted=False))\n",
    "print(\"Approximate FWHM:\", sp.specfit.measure_approximate_fwhm())\n",
    "print(\"Approximate FWHM (with interpolation):\", sp.specfit.measure_approximate_fwhm(interpolate_factor=10))\n",
    "\n",
    "# zoom in further for a detailed view of the profile fit\n",
    "sp.plotter.axis.set_xlim(6562-150,6562+150)\n",
    "sp.plotter.savefig(\"SN2009ip_UT121002_Halpha_voigt_zoomzoom.png\")\n",
    "\n",
    "# now we'll re-do the fit with the He I line subtracted off\n",
    "# first, create a copy of the spectrum\n",
    "just_halpha = sp.copy()\n",
    "\n",
    "# Second, subtract off the model fit for the He I component\n",
    "# (identify it by looking at the fitted central wavelengths)\n",
    "just_halpha.data -= sp.specfit.modelcomponents[2,:]\n",
    "\n",
    "# re-plot\n",
    "just_halpha.plotter(xmin=6100,xmax=7000,ymax=2.00,ymin=-0.3)\n",
    "\n",
    "# this time, subtract off the baseline - we're now confident that the continuum\n",
    "# fit is good enough\n",
    "just_halpha.baseline(xmin=6100, xmax=7000,\n",
    "        exclude=[6450,6746,6815,6884,7003,7126,7506,7674,8142,8231],\n",
    "        subtract=True, reset_selection=True, highlight_fitregion=True, order=2)\n",
    "\n",
    "# Do a 3-component fit now that the Helium line is gone\n",
    "# I've added some limits here because I know what parameters I expect of my fitted line\n",
    "just_halpha.specfit(guesses=[2.4007096541802202, 6563.2307968382256, 3.5653446153950314, 1,\n",
    "                    0.53985149324131965, 6564.3460908526877, 19.443226155616617,  1,\n",
    "                    0.10506431180136294, 6589.9310414408683, 50.378997529374672,  1,],\n",
    "                    fittype='voigt',\n",
    "                    xmin=6100,xmax=7000,\n",
    "                    limitedmax=[False,False,True,True]*3,\n",
    "                    limitedmin=[True,False,True,True]*3,\n",
    "                    limits=[(0,0),(0,0),(0,100),(0,100)]*3,\n",
    "                   )\n",
    "\n",
    "# overplot the components and residuals again\n",
    "just_halpha.specfit.plot_components(add_baseline=False,component_yoffset=-0.1)\n",
    "just_halpha.specfit.plotresiduals(axis=just_halpha.plotter.axis,clear=False,yoffset=-0.20,label=False)\n",
    "\n",
    "# The \"optimal chi^2\" isn't a real statistical concept, it's something I made up\n",
    "# However, I think it makes sense (but post an issue if you disagree!):\n",
    "# It uses the fitted model to find all pixels that are above the noise in the spectrum\n",
    "# then computes chi^2/n using only those pixels\n",
    "just_halpha.specfit.annotate(chi2='optimal')\n",
    "\n",
    "# save the figure\n",
    "just_halpha.plotter.savefig(\"SN2009ip_UT121002_Halpha_voigt_threecomp.png\")\n",
    "\n",
    "# A new zoom-in figure\n",
    "import pylab\n",
    "\n",
    "# now hide the legend\n",
    "just_halpha.specfit.fitleg.set_visible(False)\n",
    "# overplot a y=0 line through the residuals (for reference)\n",
    "pylab.plot([6100,7000],[-0.2,-0.2],'y--')\n",
    "# zoom vertically\n",
    "pylab.gca().set_ylim(-0.3,0.3)\n",
    "# redraw & save\n",
    "pylab.draw()\n",
    "just_halpha.plotter.savefig(\"SN2009ip_UT121002_Halpha_voigt_threecomp_zoom.png\")\n",
    "\n",
    "\n",
    "# Part of the reason for doing the above work is to demonstrate that a\n",
    "# 3-component fit is better than a 2-component fit\n",
    "#\n",
    "# So, now we do the same as above with a 2-component fit\n",
    "\n",
    "just_halpha.plotter(xmin=6100,xmax=7000,ymax=2.00,ymin=-0.3)\n",
    "just_halpha.specfit(guesses=[2.4007096541802202, 6563.2307968382256, 3.5653446153950314, 1,\n",
    "                    0.53985149324131965, 6564.3460908526877, 19.443226155616617,  1],\n",
    "                    fittype='voigt')\n",
    "just_halpha.specfit.plot_components(add_baseline=False,component_yoffset=-0.1)\n",
    "just_halpha.specfit.plotresiduals(axis=just_halpha.plotter.axis,clear=False,yoffset=-0.20,label=False)\n",
    "just_halpha.specfit.annotate(chi2='optimal')\n",
    "just_halpha.plotter.savefig(\"SN2009ip_UT121002_Halpha_voigt_twocomp.png\")\n",
    "just_halpha.specfit.fitleg.set_visible(False)\n",
    "pylab.plot([6100,7000],[-0.2,-0.2],'y--')\n",
    "pylab.gca().set_ylim(-0.3,0.3)\n",
    "pylab.draw()\n",
    "just_halpha.plotter.savefig(\"SN2009ip_UT121002_Halpha_voigt_twocomp_zoom.png\")\n",
    "\n"
   ]
  },
  {
   "cell_type": "code",
   "execution_count": 1,
   "metadata": {},
   "outputs": [],
   "source": [
    "import pyspeckit\n",
    "import astropy.units as u\n",
    "import numpy as np\n",
    "\n",
    "# Some lines\n",
    "Hbeta = 4862.721\n",
    "OIIIa = 4960.295\n",
    "OIIIb = 5008.239\n",
    "NIIa = 6549.86\n",
    "Halpha = 6564.614\n",
    "NIIb = 6585.27\n",
    "SIIa = 6718.29\n",
    "SIIb = 6732.68"
   ]
  },
  {
   "cell_type": "code",
   "execution_count": 2,
   "metadata": {},
   "outputs": [],
   "source": [
    "# Offsets between SII lines in each complex\n",
    "SIIb_off = SIIb - SIIa\n",
    "OIIIb_off = OIIIb - OIIIa\n",
    "NIIa_off_Ha = NIIa - Halpha\n",
    "NIIb_off_Ha = NIIb - Halpha\n",
    "SIIa_off_Ha = SIIa - Halpha \n",
    "SIIb_off_Ha = SIIb - Halpha "
   ]
  },
  {
   "cell_type": "code",
   "execution_count": 3,
   "metadata": {},
   "outputs": [],
   "source": [
    "# Guesses\n",
    "narrow = 5.\n",
    "broad = 30."
   ]
  },
  {
   "cell_type": "code",
   "execution_count": 4,
   "metadata": {},
   "outputs": [],
   "source": [
    "# Initialize spectrum object\n",
    "spec = pyspeckit.Spectrum('sample_sdss.txt')\n",
    "spec.unit = 'erg s^{-1} cm^{-2} \\\\AA^{-1}'\n",
    "spec.xarr.set_unit = u.dimensionless_unscaled"
   ]
  },
  {
   "cell_type": "code",
   "execution_count": 5,
   "metadata": {},
   "outputs": [],
   "source": [
    "# H-alpha\n",
    "spec.specfit.selectregion(xmin = Halpha - 5, xmax = Halpha + 5)\n",
    "ampHa = np.max(spec.data[spec.specfit.xmin:spec.specfit.xmax])"
   ]
  },
  {
   "cell_type": "code",
   "execution_count": 7,
   "metadata": {},
   "outputs": [
    {
     "name": "stderr",
     "output_type": "stream",
     "text": [
      "WARNING: The multifit keyword is no longer required.  All fits allow for multiple components. [pyspeckit.spectrum.fitters]\n"
     ]
    },
    {
     "name": "stdout",
     "output_type": "stream",
     "text": [
      "Line   Pos   Flux (erg/s/cm^2)    FWHM (Angstrom)   Luminosity (erg/s)   Amplitude\n",
      "NIIa 6551.278860558796 1.4898286339310627e-15 5.644535855161474 8.776436239690361e+39 2.47956713094345e-16\n",
      "H_3-2 6566.032860558796 3.980306425770519e-15 5.644535855161474 2.3447599787386835e+40 6.624545105152182e-16\n",
      "NIIb 6586.6888605587965 4.469485901793189e-15 5.644535855161474 2.6329308719071094e+40 7.43870139283035e-16\n",
      "SIIa 6719.708860558796 1.3510367442713193e-15 5.644535855161474 7.958826655310981e+39 2.2485715655449167e-16\n",
      "SIIb 6734.098860558796 1.2736237919223567e-15 5.644535855161474 7.502794448020021e+39 2.1197308332740525e-16\n",
      "H_3-2_1 6566.032860558796 1.8202258255921742e-14 132.89566052269862 1.0722774107244515e+41 1.2867146974457242e-16\n",
      "H_3-2_2 6566.032860558796 2.959173344521302e-14 59.9348691598406 1.7432203670200245e+41 4.638297860572207e-16\n"
     ]
    },
    {
     "data": {
      "image/png": "[encoded data removed]",
      "text/plain": [
       "<Figure size 640x480 with 1 Axes>"
      ]
     },
     "metadata": {},
     "output_type": "display_data"
    }
   ],
   "source": [
    "#from __future__ import print_function\n",
    "# Test measurements class on an SDSS AGN spectrum\n",
    "# H-alpha\n",
    "spec.specfit.selectregion(xmin = Halpha - 5, xmax = Halpha + 5)\n",
    "ampHa = np.max(spec.data[spec.specfit.xmin:spec.specfit.xmax])\n",
    "\n",
    "# SII\n",
    "spec.specfit.selectregion(xmin = SIIa - 20, xmax = SIIb + 20)\n",
    "smallamp = np.max(spec.data[spec.specfit.xmin:spec.specfit.xmax])    \n",
    "\n",
    "spec.specfit(guesses = [smallamp, SIIa, narrow, smallamp, SIIb, narrow],\n",
    "        tied=['', '', 'p[-1]', '', 'p[1] + {0}'.format(SIIb_off), ''],\n",
    "        negamp=False, quiet=True, multifit=None, show_components=True)\n",
    "    \n",
    "ampSIIa, lamSIIa, sigmaSII, ampSIIb, lamSIIb, sigmaSII = spec.specfit.modelpars\n",
    "\n",
    "opz = lamSIIa / SIIa    # Calculate (1 + z)\n",
    "\n",
    "# Now, use SII/OIII fit information to help fit NII-Halpha complex\n",
    "spec.specfit.selectregion(xmin = NIIa - 100, xmax = NIIb + 100)\n",
    "\n",
    "guesses = [2 * smallamp, NIIa * opz, sigmaSII, ampHa, Halpha * opz, sigmaSII,\n",
    "          6 * smallamp, NIIb * opz, sigmaSII,\n",
    "          ampSIIa, lamSIIa, sigmaSII, ampSIIb, lamSIIb, sigmaSII]\n",
    "tied = ['', 'p[4] + {0}'.format(NIIa_off_Ha), 'p[{0}]'.format(len(guesses) - 1), \n",
    "        '', '', 'p[{0}]'.format(len(guesses) - 1), \n",
    "        '3 * p[0]', 'p[4] + {0}'.format(NIIb_off_Ha), 'p[{0}]'.format(len(guesses) - 1),\n",
    "        '', 'p[4] + {0}'.format(SIIa_off_Ha), 'p[{0}]'.format(len(guesses) - 1), \n",
    "        '', 'p[4] + {0}'.format(SIIb_off_Ha), '']                                                \n",
    "fixed = [0, 0, 0, 0, 0, 0, 0, 0, 0, 0, 0, 0, 0, 0, 0]\n",
    "\n",
    "minp = []\n",
    "maxp = []\n",
    "lmin = []\n",
    "lmax = []\n",
    "for i, element in enumerate(guesses):\n",
    "    minp.append(element - 0.2 * element)\n",
    "    maxp.append(element + 0.2 * element)\n",
    "\n",
    "    # Don't limit amplitude\n",
    "    if i % 3 == 0:\n",
    "        lmin.append(False)\n",
    "        lmax.append(False)\n",
    "    else:\n",
    "        lmin.append(True)\n",
    "        lmax.append(True)\n",
    "        \n",
    "# Plot, and do final fit\n",
    "spec.plotter(xmin = NIIa - 100, xmax = SIIb + 30)\n",
    "\n",
    "spec.specfit(guesses=guesses, tied=tied, fixed=fixed, negamp=False,\n",
    "        limitedmin=lmin, limitedmax=lmax, minpars=minp, maxpars=maxp,\n",
    "        show_components=True)\n",
    "    \n",
    "guesses.extend([50, Halpha * opz, 50])\n",
    "tied.extend(['', 'p[4]', ''])\n",
    "fixed.extend([0, 0, 0]) \n",
    "\n",
    "lmin.extend([True, False, False])\n",
    "lmax.extend([False, False, False])\n",
    "minp.extend([0, 0, 0]) \n",
    "maxp.extend([0, 0, 0]) \n",
    "\n",
    "spec.specfit(guesses = guesses, tied = tied, fixed = fixed, negamp = False,\n",
    "    limitedmin = lmin, limitedmax = lmax, minpars = minp, maxpars = maxp)\n",
    "\n",
    "guesses.extend([10, Halpha * opz, 25])\n",
    "tied.extend(['', 'p[4]', ''])\n",
    "fixed.extend([0, 0, 0])   \n",
    "\n",
    "lmin.extend([True, False, False])\n",
    "lmax.extend([False, False, False])\n",
    "minp.extend([0, 0, 0]) \n",
    "maxp.extend([0, 0, 0])                                 \n",
    "\n",
    "spec.plotter(xmin=NIIa - 100, xmax=SIIb + 30)\n",
    "\n",
    "spec.specfit(guesses=guesses, tied=tied, fixed=fixed, negamp=False,\n",
    "    limitedmin=lmin, limitedmax=lmax, minpars=minp, maxpars=maxp, annotate=False,\n",
    "    show_components=True)\n",
    "    \n",
    "spec.plotter.refresh()\n",
    "\n",
    "spec.measure(z = 0.05, fluxnorm = 1e-17)\n",
    "\n",
    "# Overplot positions of lines and annotate\n",
    "# y = spec.plotter.ymax * 0.85\n",
    "# for i, line in enumerate(spec.measurements.lines.keys()):\n",
    "#     x = spec.measurements.lines[line]['modelpars'][1]\n",
    "#     spec.plotter.axis.plot([x]*2, [spec.plotter.ymin.value, spec.plotter.ymax.value], ls = '--', color = 'k')\n",
    "#     try: spec.plotter.axis.annotate(spec.speclines.optical.lines[line][-1], \n",
    "#         (x, y), rotation = 90, ha = 'right', va = 'center')\n",
    "#     except KeyError: pass\n",
    "\n",
    "spec.plotter.axis.set_xlabel(r'Wavelength $(\\AA)$')\n",
    "spec.plotter.axis.set_ylabel(r'Flux $(10^{-17} \\mathrm{erg/s/cm^2/\\AA})$')\n",
    "\n",
    "spec.plotter.refresh()\n",
    "\n",
    "print(\"Line   Pos   Flux (erg/s/cm^2)    FWHM (Angstrom)   Luminosity (erg/s)   Amplitude\")\n",
    "for line in spec.measurements.lines.keys():\n",
    "    print(line, spec.measurements.lines[line]['pos'],\n",
    "          spec.measurements.lines[line]['flux'],\n",
    "          spec.measurements.lines[line]['fwhm'],\n",
    "          spec.measurements.lines[line]['lum'],\n",
    "          spec.measurements.lines[line]['amp'])"
   ]
  },
  {
   "cell_type": "code",
   "execution_count": null,
   "metadata": {},
   "outputs": [],
   "source": []
  },
  {
   "cell_type": "code",
   "execution_count": 10,
   "metadata": {},
   "outputs": [
    {
     "data": {
      "text/plain": [
       "[24.795671309434496, 6551.278860558796, 2.397013677148008]"
      ]
     },
     "execution_count": 10,
     "metadata": {},
     "output_type": "execute_result"
    }
   ],
   "source": [
    "spec.measurements.lines[\"NIIa\"]['modelpars']"
   ]
  }
 ],
 "metadata": {
  "kernelspec": {
   "display_name": "SHEAP",
   "language": "python",
   "name": "python3"
  },
  "language_info": {
   "codemirror_mode": {
    "name": "ipython",
    "version": 3
   },
   "file_extension": ".py",
   "mimetype": "text/x-python",
   "name": "python",
   "nbconvert_exporter": "python",
   "pygments_lexer": "ipython3",
   "version": "3.10.15"
  }
 },
 "nbformat": 4,
 "nbformat_minor": 2
}
