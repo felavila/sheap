{
 "cells": [
  {
   "cell_type": "code",
   "execution_count": null,
   "id": "c7ab1631",
   "metadata": {},
   "outputs": [],
   "source": [
    "from jax import config\n",
    "#config.update(\"jax_platform_name\", \"cpu\")\n",
    "config.update(\"jax_enable_x64\", True)\n",
    "\n",
    "import jax \n",
    "from jax import jit,vmap\n",
    "import jax.numpy as jnp\n",
    "import glob \n",
    "import os \n",
    "import pandas as pd \n",
    "import matplotlib.pyplot as plt \n",
    "from typing import Callable\n",
    "from jax import value_and_grad\n",
    "from pathlib import Path"
   ]
  },
  {
   "cell_type": "code",
   "execution_count": null,
   "id": "4ae6038f",
   "metadata": {},
   "outputs": [],
   "source": [
    "import sheap\n",
    "from sheap.spectra_readers import parallel_reader \n",
    "from sheap.MainSheap import Sheapectral \n",
    "from sheap.RegionHandler.RegionBuilder import RegionBuilder\n",
    "from sheap.RegionFitting.RegionFitting import RegionFitting\n",
    "from sheap.Plotting.SheapPlot import SheapPlot\n",
    "from sheap.Posterior.ParameterEstimation import ParameterEstimation\n",
    "from sheap.Tools.paths_func import cross_pandas_spectra\n",
    "from sheap.HostSubtraction import HostSubtraction\n",
    "from sheap.FunctionsMinimize.utils import combine_auto"
   ]
  },
  {
   "cell_type": "code",
   "execution_count": null,
   "id": "29a59677",
   "metadata": {},
   "outputs": [],
   "source": [
    "from errors import batch_error_covariance_in_chunks"
   ]
  },
  {
   "cell_type": "code",
   "execution_count": null,
   "id": "eeb4097c",
   "metadata": {},
   "outputs": [],
   "source": [
    "%load_ext autoreload\n",
    "%autoreload 2"
   ]
  },
  {
   "cell_type": "markdown",
   "id": "199710db",
   "metadata": {},
   "source": [
    "### A"
   ]
  },
  {
   "cell_type": "code",
   "execution_count": null,
   "id": "09b37c72",
   "metadata": {},
   "outputs": [],
   "source": [
    "spectrum_dic = Path(sheap.__file__).resolve().parent / \"SuportData\" / \"Spectrum\"\n",
    "files = glob.glob(f\"{spectrum_dic}/*\")\n"
   ]
  },
  {
   "cell_type": "code",
   "execution_count": null,
   "id": "411cc345",
   "metadata": {},
   "outputs": [],
   "source": [
    "coords,spectra,_ = parallel_reader(files) \n",
    "z = [0.161769,0.184366]"
   ]
  },
  {
   "cell_type": "code",
   "execution_count": null,
   "id": "12fe4ba8",
   "metadata": {},
   "outputs": [],
   "source": [
    "sheapspectral = Sheapectral(spectra,z=z,coords=coords)"
   ]
  },
  {
   "cell_type": "code",
   "execution_count": null,
   "id": "c0278562",
   "metadata": {},
   "outputs": [],
   "source": [
    "sheapspectral.build_region(6000,8000,n_broad=1)"
   ]
  },
  {
   "cell_type": "code",
   "execution_count": null,
   "id": "74073aee",
   "metadata": {},
   "outputs": [],
   "source": [
    "sheapspectral.fit_region(num_steps_list=[1000,1000])"
   ]
  },
  {
   "cell_type": "code",
   "execution_count": null,
   "id": "4d09ed6d",
   "metadata": {},
   "outputs": [],
   "source": []
  },
  {
   "cell_type": "code",
   "execution_count": null,
   "id": "0f61dcfd",
   "metadata": {},
   "outputs": [],
   "source": [
    "model = combine_auto(sheapspectral.profile_functions)"
   ]
  },
  {
   "cell_type": "code",
   "execution_count": null,
   "id": "59fe58f2",
   "metadata": {},
   "outputs": [],
   "source": [
    "def residuals(func: Callable, params: jnp.ndarray, xs: jnp.ndarray, y: jnp.ndarray, y_uncertainties: jnp.ndarray) -> jnp.ndarray:\n",
    "    predictions = func(xs, params)\n",
    "    return jnp.abs(y - predictions) / y_uncertainties"
   ]
  },
  {
   "cell_type": "code",
   "execution_count": null,
   "id": "63e2b924",
   "metadata": {},
   "outputs": [],
   "source": [
    "from sheap.RegionFitting.uncertainty_functions import error_covariance_matrix_single\n",
    "\n",
    "def error_for_loop(model,params,spectra):\n",
    "    x,y,error = jnp.moveaxis(spectra,0,1)\n",
    "    list = jnp.zeros_like(params)\n",
    "    for n,(params_i,x_i,y_i,error_i) in enumerate(zip(params,x,y,error)):\n",
    "        sigma = error_covariance_matrix_single(model,params_i,x_i,y_i,error_i,free_params=1)\n",
    "        list = list.at[n].set(sigma)\n",
    "        #list[n] = sigma\n",
    "        #list.append(sigma)\n",
    "    return list"
   ]
  },
  {
   "cell_type": "code",
   "execution_count": null,
   "id": "9a0384c7",
   "metadata": {},
   "outputs": [],
   "source": [
    "errors_sigmas"
   ]
  },
  {
   "cell_type": "code",
   "execution_count": null,
   "id": "527b494b",
   "metadata": {},
   "outputs": [],
   "source": [
    "errors_sigmas = error_for_loop(model,sheapspectral.params,sheapspectral.spectra)"
   ]
  },
  {
   "cell_type": "code",
   "execution_count": null,
   "id": "49eb8524",
   "metadata": {},
   "outputs": [],
   "source": [
    "errors_sigmas"
   ]
  },
  {
   "cell_type": "code",
   "execution_count": null,
   "id": "8eaa056a",
   "metadata": {},
   "outputs": [],
   "source": [
    "yerr_i =sheapspectral.mask[0],1e31,yerr_i"
   ]
  },
  {
   "cell_type": "code",
   "execution_count": null,
   "id": "01091541",
   "metadata": {},
   "outputs": [],
   "source": [
    "params_i = sheapspectral.params[0]\n",
    "xs_i,y_i,yerr_i = sheapspectral.spectra[0]"
   ]
  },
  {
   "cell_type": "code",
   "execution_count": null,
   "id": "06d4280b",
   "metadata": {},
   "outputs": [],
   "source": [
    "residual =  residuals(model, params_i, xs_i, y_i, yerr_i)\n",
    "#jnp.where(sheapspectral.mask[0],0.0001,residuals(model, params_i, xs_i, y_i, yerr_i))"
   ]
  },
  {
   "cell_type": "code",
   "execution_count": null,
   "id": "c45da349",
   "metadata": {},
   "outputs": [],
   "source": [
    "residual"
   ]
  },
  {
   "cell_type": "code",
   "execution_count": null,
   "id": "1760faec",
   "metadata": {},
   "outputs": [],
   "source": [
    "jac_fn = lambda p: residuals(model, p, xs_i, y_i, yerr_i)"
   ]
  },
  {
   "cell_type": "code",
   "execution_count": null,
   "id": "ca0eaf08",
   "metadata": {},
   "outputs": [],
   "source": [
    "jacobian = jax.jacobian(jac_fn)(params_i)\n",
    "JTJ = jacobian.T @ jacobian\n",
    "dof = residual.shape[0] - 0\n",
    "s_sq = jnp.sum(residual ** 2) / dof\n",
    "cov = jnp.linalg.inv(JTJ + 1e-6 * jnp.eye(params_i.shape[0])) * s_sq\n",
    "errors = jnp.sqrt(jnp.diag(cov))"
   ]
  },
  {
   "cell_type": "code",
   "execution_count": null,
   "id": "9bac2f3c",
   "metadata": {},
   "outputs": [],
   "source": [
    "errors"
   ]
  },
  {
   "cell_type": "code",
   "execution_count": null,
   "id": "6c99444c",
   "metadata": {},
   "outputs": [],
   "source": [
    "jacobian.shape"
   ]
  },
  {
   "cell_type": "code",
   "execution_count": null,
   "id": "9f53f204",
   "metadata": {},
   "outputs": [],
   "source": [
    "\n",
    "\n",
    "\n",
    "jac_fn = lambda p: residuals(func, p, xs_i, y_i, yerr_i)\n",
    "jacobian = jax.jacobian(jac_fn)(params_i)\n",
    "JTJ = jacobian.T @ jacobian\n",
    "dof = residual.shape[0] - free_params\n",
    "s_sq = jnp.sum(residual ** 2) / dof\n",
    "cov = jnp.linalg.inv(JTJ + 1e-6 * jnp.eye(params_i.shape[0])) * s_sq"
   ]
  },
  {
   "cell_type": "markdown",
   "id": "bc804104",
   "metadata": {},
   "source": [
    "### B"
   ]
  },
  {
   "cell_type": "code",
   "execution_count": null,
   "id": "67e048b1",
   "metadata": {},
   "outputs": [],
   "source": [
    "sheapclass = Sheapectral.from_pickle(\"model_mode.pkl\")"
   ]
  },
  {
   "cell_type": "code",
   "execution_count": null,
   "id": "a37cac57",
   "metadata": {},
   "outputs": [],
   "source": [
    "#sheapclass.complex_region_class"
   ]
  },
  {
   "cell_type": "code",
   "execution_count": null,
   "id": "1b8fe38d",
   "metadata": {},
   "outputs": [],
   "source": [
    "sheapclass.build_region(6000,8000,n_broad=2)"
   ]
  },
  {
   "cell_type": "code",
   "execution_count": null,
   "id": "4bca4b97",
   "metadata": {},
   "outputs": [],
   "source": [
    "sheapclass.fit_region(num_steps_list=[100,100])"
   ]
  },
  {
   "cell_type": "code",
   "execution_count": null,
   "id": "5f744720",
   "metadata": {},
   "outputs": [],
   "source": [
    "parameterestimation = ParameterEstimation(sheapclass)"
   ]
  },
  {
   "cell_type": "code",
   "execution_count": null,
   "id": "f1932644",
   "metadata": {},
   "outputs": [],
   "source": [
    "dd=parameterestimation.compute_Luminosity_w()"
   ]
  },
  {
   "cell_type": "code",
   "execution_count": null,
   "id": "2fb8c5ac",
   "metadata": {},
   "outputs": [],
   "source": [
    "parameterestimation.compute_params_wu()"
   ]
  },
  {
   "cell_type": "code",
   "execution_count": null,
   "id": "48167701",
   "metadata": {},
   "outputs": [],
   "source": [
    "parameterestimation.dict_params[\"broad\"]"
   ]
  },
  {
   "cell_type": "code",
   "execution_count": null,
   "id": "85b40d73",
   "metadata": {},
   "outputs": [],
   "source": [
    "parameterestimation.compute_bolometric_luminosity()"
   ]
  },
  {
   "cell_type": "code",
   "execution_count": null,
   "id": "9dc5019a",
   "metadata": {},
   "outputs": [],
   "source": [
    "l.value.shape"
   ]
  },
  {
   "cell_type": "code",
   "execution_count": null,
   "id": "dca0aa12",
   "metadata": {},
   "outputs": [],
   "source": [
    "#grad_f = grad(lambda p: jnp.sum(profile_func(jnp.array([w]), p), axis=-1))(params)  # shape (225, n_params)"
   ]
  },
  {
   "cell_type": "code",
   "execution_count": null,
   "id": "82c34a11",
   "metadata": {},
   "outputs": [],
   "source": [
    "L_w"
   ]
  },
  {
   "cell_type": "code",
   "execution_count": null,
   "id": "fc564fad",
   "metadata": {},
   "outputs": [],
   "source": [
    "grad_f(uncertainty_params)"
   ]
  },
  {
   "cell_type": "code",
   "execution_count": null,
   "id": "e6e00b25",
   "metadata": {},
   "outputs": [],
   "source": [
    "profile_func(jnp.array([w]),params).shape"
   ]
  },
  {
   "cell_type": "code",
   "execution_count": null,
   "id": "e33ab3e5",
   "metadata": {},
   "outputs": [],
   "source": [
    "profile_func(jnp.array([1350.]),params.T)"
   ]
  },
  {
   "cell_type": "code",
   "execution_count": null,
   "id": "4dd457c6",
   "metadata": {},
   "outputs": [],
   "source": [
    "def scalar_flux(params, w):\n",
    "    return jnp.sum(profile_func(jnp.array([w]), params), axis=-1)  # shape (N_spectra,)\n",
    "\n",
    "# Gradient of scalar flux per spectrum\n",
    "def grad_flux(p, w):\n",
    "    return grad(lambda p_: jnp.sum(profile_func(jnp.array([w]), p_), axis=-1))(p)  # shape (N_spectra, n_params)\n",
    "\n",
    "# Evaluate flux and gradients\n",
    "w = 5100.  # example\n",
    "flux = profile_func(jnp.array([w]), params)  # shape (225, 2)\n",
    "#flux_scalar = jnp.sum(flux, axis=-1)         # shape (225,)\n",
    "\n",
    "#grad_f = grad(lambda p: jnp.sum(profile_func(jnp.array([w]), p), axis=-1))(params)  # shape (225, n_params)\n",
    "#sigma_f = jnp.sqrt(jnp.sum((grad_f * uncertainty_params)**2, axis=-1))             # shape (225,)\n"
   ]
  },
  {
   "cell_type": "code",
   "execution_count": null,
   "id": "8f73e3e9",
   "metadata": {},
   "outputs": [],
   "source": [
    "flux"
   ]
  },
  {
   "cell_type": "code",
   "execution_count": null,
   "id": "3422f335",
   "metadata": {},
   "outputs": [],
   "source": [
    "profile_func(jnp.array([w]),params)"
   ]
  },
  {
   "cell_type": "code",
   "execution_count": null,
   "id": "52e1e537",
   "metadata": {},
   "outputs": [],
   "source": [
    "parameterestimation.dict_basic_params['broad']"
   ]
  },
  {
   "cell_type": "code",
   "execution_count": null,
   "id": "9c13c66f",
   "metadata": {},
   "outputs": [],
   "source": [
    "parameterestimation.dict_flux"
   ]
  },
  {
   "cell_type": "code",
   "execution_count": null,
   "id": "5ea12977",
   "metadata": {},
   "outputs": [],
   "source": [
    "parameterestimation.complex_region_class.to_dict().keys()"
   ]
  },
  {
   "cell_type": "code",
   "execution_count": null,
   "id": "b72b8231",
   "metadata": {},
   "outputs": [],
   "source": [
    "for i in  set([i.kind for i in parameterestimation.complex_region]):\n",
    "    print(i)\n"
   ]
  },
  {
   "cell_type": "code",
   "execution_count": null,
   "id": "8c0f92c0",
   "metadata": {},
   "outputs": [],
   "source": [
    "parameterestimation.compute_flux_wu()"
   ]
  },
  {
   "cell_type": "code",
   "execution_count": null,
   "id": "92922916",
   "metadata": {},
   "outputs": [],
   "source": [
    "parameterestimation.params_dict"
   ]
  },
  {
   "cell_type": "code",
   "execution_count": null,
   "id": "db6daa15",
   "metadata": {},
   "outputs": [],
   "source": [
    "amplitudes = [line.amplitude for line in parameterestimation.broad_map.lines]"
   ]
  },
  {
   "cell_type": "code",
   "execution_count": null,
   "id": "db8d2772",
   "metadata": {},
   "outputs": [],
   "source": [
    "from sheap.SuportFunctions.functions import mapping_params"
   ]
  },
  {
   "cell_type": "code",
   "execution_count": null,
   "id": "1d7580ed",
   "metadata": {},
   "outputs": [],
   "source": [
    "type(parameterestimation.broad_map.params_names)"
   ]
  },
  {
   "cell_type": "code",
   "execution_count": null,
   "id": "cac53e03",
   "metadata": {},
   "outputs": [],
   "source": [
    "broad_map = parameterestimation.broad_map"
   ]
  },
  {
   "cell_type": "code",
   "execution_count": null,
   "id": "38f6c8e2",
   "metadata": {},
   "outputs": [],
   "source": [
    "idx_amplitude = mapping_params(broad_map.params_names,\"amplitude\")\n",
    "\n"
   ]
  },
  {
   "cell_type": "code",
   "execution_count": null,
   "id": "9631784b",
   "metadata": {},
   "outputs": [],
   "source": [
    "idx_amplitude"
   ]
  },
  {
   "cell_type": "code",
   "execution_count": null,
   "id": "c452ebff",
   "metadata": {},
   "outputs": [],
   "source": [
    "parameterestimation.RegionMap.complex_region"
   ]
  },
  {
   "cell_type": "code",
   "execution_count": null,
   "id": "c722ab90",
   "metadata": {},
   "outputs": [],
   "source": [
    "parameterestimation.complex_region_class.to_dict()['complex_region']"
   ]
  },
  {
   "cell_type": "code",
   "execution_count": null,
   "id": "e0b79cbc",
   "metadata": {},
   "outputs": [],
   "source": [
    "parameterestimation.RegionMap.complex_region"
   ]
  },
  {
   "cell_type": "code",
   "execution_count": null,
   "id": "24e0cc49",
   "metadata": {},
   "outputs": [],
   "source": [
    "from sheap.MainSheap import ComplexRegion"
   ]
  },
  {
   "cell_type": "code",
   "execution_count": null,
   "id": "0795ee6c",
   "metadata": {},
   "outputs": [],
   "source": [
    "type(sheapclass.complex_region_class)"
   ]
  },
  {
   "cell_type": "code",
   "execution_count": null,
   "id": "b33e097e",
   "metadata": {},
   "outputs": [],
   "source": [
    "# complexregionclass= ComplexRegion(complex_region=sheapclass.complex_region,\n",
    "#                                 params=sheapclass.params,\n",
    "#                                 uncertainty_params=sheapclass.uncertainty_params,\n",
    "#                                 profile_functions=sheapclass.profile_functions,\n",
    "#                                 params_dict=sheapclass.params_dict,\n",
    "#                                 profile_names=sheapclass.profile_names,\n",
    "#                                 profile_params_index_list=sheapclass.profile_params_index_list)"
   ]
  },
  {
   "cell_type": "code",
   "execution_count": null,
   "id": "127e6e3f",
   "metadata": {},
   "outputs": [],
   "source": [
    "from sheap.SuportFunctions.functions import LineMapper"
   ]
  },
  {
   "cell_type": "code",
   "execution_count": null,
   "id": "eb228983",
   "metadata": {},
   "outputs": [],
   "source": []
  },
  {
   "cell_type": "code",
   "execution_count": null,
   "id": "c3efbd98",
   "metadata": {},
   "outputs": [],
   "source": [
    "maps=LineMapper(sheapclass.complex_region,sheapclass.profile_functions,sheapclass.params,sheapclass.uncertainty_params,\n",
    "           sheapclass.profile_params_index_list,sheapclass.params_dict,sheapclass.profile_names)"
   ]
  },
  {
   "cell_type": "code",
   "execution_count": null,
   "id": "4fba4cc5",
   "metadata": {},
   "outputs": [],
   "source": [
    "sheapclass.profile_names"
   ]
  },
  {
   "cell_type": "code",
   "execution_count": null,
   "id": "450ef7e6",
   "metadata": {},
   "outputs": [],
   "source": [
    "broads_lines=maps._get(\"kind\",\"broad\")"
   ]
  },
  {
   "cell_type": "code",
   "execution_count": null,
   "id": "9794b427",
   "metadata": {},
   "outputs": [],
   "source": [
    "sheapclass.profile_functions"
   ]
  },
  {
   "cell_type": "code",
   "execution_count": null,
   "id": "df1ed04f",
   "metadata": {},
   "outputs": [],
   "source": [
    "broads_lines.lines"
   ]
  },
  {
   "cell_type": "code",
   "execution_count": null,
   "id": "b39c55c0",
   "metadata": {},
   "outputs": [],
   "source": [
    "parameterestimation.compute_flux_wu()"
   ]
  },
  {
   "cell_type": "code",
   "execution_count": null,
   "id": "99a12809",
   "metadata": {},
   "outputs": [],
   "source": [
    "parameterestimation.compute_fwhm_wu()"
   ]
  },
  {
   "cell_type": "code",
   "execution_count": null,
   "id": "29af462c",
   "metadata": {},
   "outputs": [],
   "source": [
    "np.array(parameterestimation.d)"
   ]
  },
  {
   "cell_type": "code",
   "execution_count": null,
   "id": "bcfa0629",
   "metadata": {},
   "outputs": [],
   "source": [
    "from auto_uncertainties import Uncertainty\n",
    "sigma=parameterestimation.sigma[0]\n",
    "sigma_u=parameterestimation.sigma_u[0]"
   ]
  },
  {
   "cell_type": "code",
   "execution_count": null,
   "id": "b5e421b1",
   "metadata": {},
   "outputs": [],
   "source": [
    "from auto_uncertainties import Uncertainty\n",
    "import numpy as np\n",
    "value = np.linspace(start=0, stop=10, num=5)\n",
    "error = np.ones_like(value)*0.1\n",
    "u = Uncertainty(value, error)"
   ]
  },
  {
   "cell_type": "code",
   "execution_count": null,
   "id": "e8aacecd",
   "metadata": {},
   "outputs": [],
   "source": []
  },
  {
   "cell_type": "code",
   "execution_count": null,
   "id": "9edf19ff",
   "metadata": {},
   "outputs": [],
   "source": [
    "Uncertainty(np.array(sigma),np.array(sigma_u))"
   ]
  },
  {
   "cell_type": "code",
   "execution_count": null,
   "id": "310608d5",
   "metadata": {},
   "outputs": [],
   "source": [
    "jnp.nan_to_num(parameterestimation.sigma_u,nan=1e8)[-1]"
   ]
  },
  {
   "cell_type": "code",
   "execution_count": null,
   "id": "4eda13f0",
   "metadata": {},
   "outputs": [],
   "source": [
    "norm_amplitude = Uncertainty(self.norm_amplitude, self.norm_amplitude_u)\n",
    "sigma = Uncertainty(self.sigma, self.sigma_u)\n",
    "flux =  jnp.sqrt(2. * jnp.pi) * norm_amplitude * sigma "
   ]
  },
  {
   "cell_type": "code",
   "execution_count": null,
   "id": "c50792a6",
   "metadata": {},
   "outputs": [],
   "source": [
    "sp = SheapPlot(sheapclass)"
   ]
  },
  {
   "cell_type": "code",
   "execution_count": null,
   "id": "011e9326",
   "metadata": {},
   "outputs": [],
   "source": [
    "sp.plot(10)"
   ]
  },
  {
   "cell_type": "code",
   "execution_count": null,
   "id": "cae42a6e",
   "metadata": {},
   "outputs": [],
   "source": [
    "sheap"
   ]
  },
  {
   "cell_type": "code",
   "execution_count": null,
   "id": "e9476458",
   "metadata": {},
   "outputs": [],
   "source": [
    "model = combine_auto(sheapclass.profile_functions)\n",
    "\n",
    "spectra = sheapclass.spectra.at[:,[1,2],:].multiply(10 ** (-1 * sheapclass.spectra_exp[:,jnp.newaxis,jnp.newaxis])) #apply escale to 0-20 max\n",
    "#x,y,y_uncertainties = jnp.moveaxis(spectra,0,1)"
   ]
  },
  {
   "cell_type": "code",
   "execution_count": null,
   "id": "d96689d0",
   "metadata": {},
   "outputs": [],
   "source": [
    "y_uncertainties"
   ]
  },
  {
   "cell_type": "code",
   "execution_count": null,
   "id": "072a02d3",
   "metadata": {},
   "outputs": [],
   "source": [
    "errrs_array_fulljacobian = batch_error_covariance_in_chunks(model,sheapclass.params, x, y, y_uncertainties)"
   ]
  },
  {
   "cell_type": "code",
   "execution_count": null,
   "id": "be8ab828",
   "metadata": {},
   "outputs": [],
   "source": [
    "def residuals(func,params: jnp.ndarray, xs, y: jnp.ndarray, y_uncertainties: jnp.ndarray):\n",
    "        predictions = func(xs, params)\n",
    "            \n",
    "        return jnp.abs(y - predictions) / y_uncertainties\n",
    "\n",
    "def error_covariance_matrix_single(\n",
    "    func: Callable,\n",
    "    params_i: jnp.ndarray,\n",
    "    xs_i: jnp.ndarray,\n",
    "    y_i: jnp.ndarray,\n",
    "    yerr_i: jnp.ndarray,\n",
    "    free_params: int\n",
    ") -> jnp.ndarray:\n",
    "    residual = residuals(func, params_i, xs_i, y_i, yerr_i)\n",
    "    \n",
    "    # Jacobian w.r.t. params\n",
    "    jac_fn = lambda p: residuals(func, p, xs_i, y_i, yerr_i)\n",
    "    jacobian = jax.jacobian(jac_fn)(params_i)  # shape (n_data, n_params)\n",
    "    \n",
    "    JTJ = jacobian.T @ jacobian\n",
    "    chi_square = jnp.sum(residual ** 2)\n",
    "    dof = residual.shape[0] - free_params\n",
    "    s_sq = chi_square / dof\n",
    "\n",
    "    # Add small diagonal term to avoid singular matrix\n",
    "    cov = jnp.linalg.inv(JTJ + 1e-6 * jnp.eye(params_i.shape[0])) * s_sq\n",
    "    return jnp.sqrt(jnp.diag(cov))  # shape: (n_params,)\n",
    "\n",
    "def batch_error_covariance_in_chunks(params, xs, y, yerr, batch_size=30):\n",
    "    n = params.shape[0]\n",
    "    results = []\n",
    "    for i in range(0, n, batch_size):\n",
    "        batch_fn = vmap(\n",
    "            lambda p, x, y_, ye: error_covariance_matrix_single(model, p, x, y_, ye, 0),\n",
    "            in_axes=(0, 0, 0, 0)\n",
    "        )\n",
    "        batch_res = batch_fn(\n",
    "            params[i:i+batch_size],\n",
    "            xs[i:i+batch_size],\n",
    "            y[i:i+batch_size],\n",
    "            yerr[i:i+batch_size]\n",
    "        )\n",
    "        results.append(batch_res)\n",
    "    return jnp.concatenate(results, axis=0)"
   ]
  },
  {
   "cell_type": "code",
   "execution_count": null,
   "id": "ce6542b6",
   "metadata": {},
   "outputs": [],
   "source": [
    "# import traceback\n",
    "# import gc\n",
    "\n",
    "# def try_batched_error_covariance(model, params, xs, y, yerr, free_params=0, max_batch=30):\n",
    "#     n_total = params.shape[0]\n",
    "#     batch_size = max_batch\n",
    "#     results = []\n",
    "#     i = 0\n",
    "    \n",
    "#     while i < n_total:\n",
    "#         try:\n",
    "#             current_batch_size = min(batch_size, n_total - i)\n",
    "#             #print(current_batch_size)\n",
    "#             print(\"from to:\",i,i+current_batch_size)\n",
    "#             batch_res = params[i:i+current_batch_size]\n",
    "#             #i += current_batch_size\n",
    "#             batch_fn = vmap(\n",
    "#             lambda p, x, y_, ye: error_covariance_matrix_single(model, p, x, y_, ye, 0),\n",
    "#             in_axes=(0, 0, 0, 0)\n",
    "#         )\n",
    "#             batch_res = batch_fn(\n",
    "#                  params[i:i+current_batch_size],\n",
    "#                  xs[i:i+current_batch_size],\n",
    "#                  y[i:i+current_batch_size],\n",
    "#                  yerr[i:i+current_batch_size]\n",
    "#              )\n",
    "#             results.append(batch_res)\n",
    "#             i += current_batch_size\n",
    "#             batch_size = min(current_batch_size + 5, max_batch)\n",
    "#             del batch_res, batch_fn\n",
    "#             jax.clear_backends()\n",
    "#         except RuntimeError as e:\n",
    "#             #del batch_res, batch_fn\n",
    "#             gc.collect()\n",
    "#             jax.clear_backends()\n",
    "#             if \"RESOURCE_EXHAUSTED\" in str(e) or \"out of memory\" in str(e).lower():\n",
    "#                 batch_size = max(1, batch_size // 2)\n",
    "#                 print(f\"DOOM at batch {i}-{i+current_batch_size}, reducing to batch_size={batch_size}\")\n",
    "#                 if batch_size == 1:\n",
    "#                     print(\"Cannot reduce batch size further. Exiting.\")\n",
    "#                     raise e\n",
    "#             else:\n",
    "#                 print(\"nhandled error:\")\n",
    "#                 traceback.print_exc()\n",
    "#                 raise e\n",
    "#     return jnp.concatenate(results, axis=0)     "
   ]
  },
  {
   "cell_type": "code",
   "execution_count": null,
   "id": "f9d4fd11",
   "metadata": {},
   "outputs": [],
   "source": [
    "sheapclass.params[0]"
   ]
  },
  {
   "cell_type": "code",
   "execution_count": null,
   "id": "12ea0714",
   "metadata": {},
   "outputs": [],
   "source": [
    "errrs_array_fulljacobian[0]"
   ]
  },
  {
   "cell_type": "code",
   "execution_count": null,
   "id": "da76e8c2",
   "metadata": {},
   "outputs": [],
   "source": [
    "def fisher_error_estimate(\n",
    "    func: Callable,\n",
    "    params_i: jnp.ndarray,\n",
    "    xs_i: jnp.ndarray,\n",
    "    y_i: jnp.ndarray,\n",
    "    yerr_i: jnp.ndarray,\n",
    "    free_params: int\n",
    ") -> jnp.ndarray:\n",
    "    def loss_fn(p):\n",
    "        residual = residuals(func, p, xs_i, y_i, yerr_i)\n",
    "        return jnp.sum(residual**2)\n",
    "\n",
    "    loss, grad = value_and_grad(loss_fn)(params_i)  # grad: shape (n_params,)\n",
    "    \n",
    "    grad = jnp.nan_to_num(grad)\n",
    "    JTJ = jnp.outer(grad, grad)  # Approximates Fisher matrix (1 sample)\n",
    "    \n",
    "    dof = y_i.shape[0] - free_params\n",
    "    s_sq = loss / dof\n",
    "    \n",
    "    cov = jnp.linalg.inv(JTJ + 1e-6 * jnp.eye(grad.shape[0])) * s_sq\n",
    "    return jnp.sqrt(jnp.diag(cov))\n",
    "\n",
    "def batch_fisher_errors(func, params, xs, y, yerr, free_params=0):\n",
    "    return vmap(\n",
    "        lambda p, x, y_, ye: fisher_error_estimate(func, p, x, y_, ye, free_params),\n",
    "        in_axes=(0, 0, 0, 0)\n",
    "    )(params, xs, y, yerr)"
   ]
  },
  {
   "cell_type": "code",
   "execution_count": null,
   "id": "5eb4e1f1",
   "metadata": {},
   "outputs": [],
   "source": [
    "resid_array = sheapclass.params #batch_error_covariance_in_chunks(params, xs, y, yerr, batch_size=30)"
   ]
  },
  {
   "cell_type": "code",
   "execution_count": null,
   "id": "29722578",
   "metadata": {},
   "outputs": [],
   "source": [
    "resid_array = batch_fisher_errors(model,sheapclass.params, x, y, y_uncertainties)\n"
   ]
  },
  {
   "cell_type": "code",
   "execution_count": null,
   "id": "e565a7cc",
   "metadata": {},
   "outputs": [],
   "source": [
    "sheapclass.params_dict"
   ]
  },
  {
   "cell_type": "code",
   "execution_count": null,
   "id": "01a1c099",
   "metadata": {},
   "outputs": [],
   "source": [
    "errrs_array_fulljacobian[0]"
   ]
  },
  {
   "cell_type": "code",
   "execution_count": null,
   "id": "e00a7e68",
   "metadata": {},
   "outputs": [],
   "source": [
    "import gc\n",
    "gc.collect()"
   ]
  },
  {
   "cell_type": "code",
   "execution_count": null,
   "id": "2b98e910",
   "metadata": {},
   "outputs": [],
   "source": [
    "# import jax\n",
    "# import jax.numpy as jnp\n",
    "import traceback\n",
    "\n",
    "def try_batched_error_covariance(model, params, xs, y, yerr, free_params=0, max_batch=64):\n",
    "    n_total = params.shape[0]\n",
    "    batch_size = max_batch\n",
    "    results = []\n",
    "\n",
    "    i = 0\n",
    "    while i < n_total:\n",
    "        current_batch_size = min(batch_size, n_total - i)\n",
    "        try:\n",
    "            batch_fn = jax.vmap(\n",
    "                lambda p, x, y_, ye: error_covariance_matrix_single(\n",
    "                    model, p, x, y_, ye, free_params\n",
    "                ),\n",
    "                in_axes=(0, 0, 0, 0)\n",
    "            )\n",
    "            # Try this batch\n",
    "            batch_res = batch_fn(\n",
    "                params[i:i+current_batch_size],\n",
    "                xs[i:i+current_batch_size],\n",
    "                y[i:i+current_batch_size],\n",
    "                yerr[i:i+current_batch_size]\n",
    "            )\n",
    "            results.append(batch_res)\n",
    "            i += current_batch_size\n",
    "            # If it worked, try increasing batch size slightly next time\n",
    "            batch_size = min(batch_size + 5, max_batch)\n",
    "\n",
    "        except RuntimeError as e:\n",
    "            if \"RESOURCE_EXHAUSTED\" in str(e) or \"out of memory\" in str(e).lower():\n",
    "                batch_size = max(1, batch_size // 2)\n",
    "                print(f\"DOOM at batch {i}-{i+current_batch_size}, reducing to batch_size={batch_size}\")\n",
    "                if batch_size == 1:\n",
    "                    print(\"Cannot reduce batch size further. Exiting.\")\n",
    "                    raise e\n",
    "            else:\n",
    "                print(\"nhandled error:\")\n",
    "                traceback.print_exc()\n",
    "                raise e\n",
    "\n",
    "    return jnp.concatenate(results, axis=0)\n",
    "\n"
   ]
  },
  {
   "cell_type": "code",
   "execution_count": null,
   "id": "758f1e9a",
   "metadata": {},
   "outputs": [],
   "source": [
    "#7.minutes cpu \n",
    "#30, 1.46 #max ->\n",
    "resid_array = try_batched_error_covariance(model,sheapclass.params, x, y, y_uncertainties)"
   ]
  },
  {
   "cell_type": "code",
   "execution_count": null,
   "id": "e52eda5d",
   "metadata": {},
   "outputs": [],
   "source": [
    "batched_error_covariance = vmap(\n",
    "    lambda params_i, xs_i, y_i, yerr_i: error_covariance_matrix_single(\n",
    "        model, params_i, xs_i, y_i, yerr_i, 0\n",
    "    ),\n",
    "    in_axes=(0, 0, 0, 0)\n",
    ")\n",
    "resid_array = batched_error_covariance(sheapclass.params, x, y, y_uncertainties)"
   ]
  },
  {
   "cell_type": "code",
   "execution_count": null,
   "id": "7a7b1f80",
   "metadata": {},
   "outputs": [],
   "source": []
  },
  {
   "cell_type": "code",
   "execution_count": null,
   "id": "af6983d0",
   "metadata": {},
   "outputs": [],
   "source": []
  },
  {
   "cell_type": "code",
   "execution_count": null,
   "id": "7a646149",
   "metadata": {},
   "outputs": [],
   "source": [
    "region_plot = SheapPlot(sheapclass)\n",
    "region_plot.plot(3,add_name=False)#207"
   ]
  },
  {
   "cell_type": "code",
   "execution_count": null,
   "id": "12391bd0",
   "metadata": {},
   "outputs": [],
   "source": [
    "sheapclass.build_region(4400, 5600,fe_mode=\"sum\",n_broad=2,add_outflow=True,by_region=True,force_linear=False,add_balmercontiniumm=True)"
   ]
  },
  {
   "cell_type": "code",
   "execution_count": null,
   "id": "5ebd7a51",
   "metadata": {},
   "outputs": [],
   "source": [
    "sheapclass.builded_region.complex_region"
   ]
  },
  {
   "cell_type": "code",
   "execution_count": null,
   "id": "05e1459d",
   "metadata": {},
   "outputs": [],
   "source": [
    "sheapclass.fit_region([100,100])"
   ]
  },
  {
   "cell_type": "code",
   "execution_count": null,
   "id": "f4be6eed",
   "metadata": {},
   "outputs": [],
   "source": [
    "sheapclass.complex_region"
   ]
  },
  {
   "cell_type": "code",
   "execution_count": null,
   "id": "badf4668",
   "metadata": {},
   "outputs": [],
   "source": [
    "sheapclass.complex_region"
   ]
  },
  {
   "cell_type": "code",
   "execution_count": null,
   "id": "80fa3ed7",
   "metadata": {},
   "outputs": [],
   "source": [
    "region_plot = SheapPlot(sheapclass)\n",
    "region_plot.plot(20,add_name=False)#207"
   ]
  },
  {
   "cell_type": "code",
   "execution_count": null,
   "id": "f6dc5c17",
   "metadata": {},
   "outputs": [],
   "source": [
    "plt.plot(jnp.array(sheapclass.loss).T[3])"
   ]
  },
  {
   "cell_type": "code",
   "execution_count": null,
   "id": "cae54952",
   "metadata": {},
   "outputs": [],
   "source": [
    "\n",
    "from jax import vmap "
   ]
  },
  {
   "cell_type": "code",
   "execution_count": null,
   "id": "27c6644d",
   "metadata": {},
   "outputs": [],
   "source": []
  },
  {
   "cell_type": "code",
   "execution_count": null,
   "id": "92ee6d6d",
   "metadata": {},
   "outputs": [],
   "source": []
  },
  {
   "cell_type": "code",
   "execution_count": null,
   "id": "1d491503",
   "metadata": {},
   "outputs": [],
   "source": []
  },
  {
   "cell_type": "code",
   "execution_count": null,
   "id": "2119d883",
   "metadata": {},
   "outputs": [],
   "source": []
  },
  {
   "cell_type": "code",
   "execution_count": null,
   "id": "f0521e22",
   "metadata": {},
   "outputs": [],
   "source": [
    "# Must be first, before jax.numpy or anything else\n",
    "from jax import config\n",
    "config.update(\"jax_platform_name\", \"cpu\")\n",
    "\n",
    "# Now safe to import\n",
    "import jax\n",
    "import jax.numpy as jnp\n",
    "from jax import jit, vmap\n",
    "\n",
    "\n"
   ]
  },
  {
   "cell_type": "code",
   "execution_count": null,
   "id": "ec9aa0f5",
   "metadata": {},
   "outputs": [],
   "source": []
  },
  {
   "cell_type": "code",
   "execution_count": null,
   "id": "ffcff7ac",
   "metadata": {},
   "outputs": [],
   "source": [
    "#from jax import config\n",
    "#config.update(\"jax_platform_name\", \"cpu\")"
   ]
  },
  {
   "cell_type": "code",
   "execution_count": null,
   "id": "abbb8935",
   "metadata": {},
   "outputs": [],
   "source": [
    "resid_array[1]"
   ]
  },
  {
   "cell_type": "code",
   "execution_count": null,
   "id": "bcad5665",
   "metadata": {},
   "outputs": [],
   "source": [
    "resid_array"
   ]
  },
  {
   "cell_type": "code",
   "execution_count": null,
   "id": "bc854b54",
   "metadata": {},
   "outputs": [],
   "source": [
    "sheapclass.params[0:2]"
   ]
  },
  {
   "cell_type": "code",
   "execution_count": null,
   "id": "3d31a298",
   "metadata": {},
   "outputs": [],
   "source": [
    "@jit\n",
    "def error_covariance_matrix_method(\n",
    "    optimized_params_flat: jnp.ndarray,\n",
    "    xs: List[jnp.ndarray],\n",
    "    y: jnp.ndarray,\n",
    "    y_uncertainties: jnp.ndarray,\n",
    "    free_params: int\n",
    ") -> jnp.ndarray:\n",
    "    \"\"\"\n",
    "    Calculate the error covariance matrix based on residuals for multiple input variables.\n",
    "\n",
    "    Parameters:\n",
    "    - optimized_params_flat: Optimized parameters as a flat array.\n",
    "    - xs: List of input data arrays (e.g., [x1, x2, ...]).\n",
    "    - y: Target data.\n",
    "    - y_uncertainties: Uncertainties in target data.\n",
    "    - free_params: Number of free parameters in the model.\n",
    "\n",
    "    Returns:\n",
    "    - Standard errors for each parameter.\n",
    "    \"\"\"\n",
    "    residual = residuals(optimized_params_flat, xs, y, y_uncertainties)\n",
    "    jacobian = jax.jacobian(residuals)(optimized_params_flat, xs, y, y_uncertainties)\n",
    "    JTJ = jacobian.T @ jacobian\n",
    "    chi_square = jnp.sum(residual ** 2)\n",
    "    degrees_of_freedom = len(residual) - free_params\n",
    "    s_sq = chi_square / degrees_of_freedom\n",
    "    covariance_matrix = jnp.linalg.inv(JTJ + 1e-6 * jnp.eye(len(optimized_params_flat))) * s_sq\n",
    "    return jnp.sqrt(jnp.diag(covariance_matrix))"
   ]
  },
  {
   "cell_type": "code",
   "execution_count": null,
   "id": "62004ce8",
   "metadata": {},
   "outputs": [],
   "source": [
    "from jax import vmap \n",
    "batched_residuals = vmap(\n",
    "    lambda xs_i, params_i, y_i, yerr_i: residuals(model, params_i, xs_i, y_i, yerr_i),\n",
    "    in_axes=(0, 0, 0, 0)\n",
    ")"
   ]
  },
  {
   "cell_type": "code",
   "execution_count": null,
   "id": "bd80be15",
   "metadata": {},
   "outputs": [],
   "source": [
    "from jax import vmap\n",
    "\n",
    "def residuals(func, params: jnp.ndarray, xs, y: jnp.ndarray, y_uncertainties: jnp.ndarray):\n",
    "    predictions = func(xs, params)  # returns shape (4614,)\n",
    "    return jnp.abs(y - predictions) / y_uncertainties  # shape (4614,)\n",
    "\n",
    "# vmap over the 225 spectra\n",
    "batched_residuals = vmap(\n",
    "    lambda params_i, xs_i, y_i, yerr_i: residuals(model, params_i, xs_i, y_i, yerr_i),\n",
    "    in_axes=(0, 0, 0, 0)\n",
    ")\n",
    "\n",
    "# usage:\n",
    "resid_array = batched_residuals(sheapclass.params, x, y, y_uncertainties)\n"
   ]
  },
  {
   "cell_type": "code",
   "execution_count": null,
   "id": "682f5562",
   "metadata": {},
   "outputs": [],
   "source": [
    "def error_covariance_matrix_single(\n",
    "    func: Callable,\n",
    "    params_i: jnp.ndarray,\n",
    "    xs_i: jnp.ndarray,\n",
    "    y_i: jnp.ndarray,\n",
    "    yerr_i: jnp.ndarray,\n",
    "    free_params: int\n",
    ") -> jnp.ndarray:\n",
    "    residual = residuals(func, params_i, xs_i, y_i, yerr_i)\n",
    "    \n",
    "    # Jacobian w.r.t. params\n",
    "    jac_fn = lambda p: residuals(func, p, xs_i, y_i, yerr_i)\n",
    "    jacobian = jax.jacobian(jac_fn)(params_i)  # shape (n_data, n_params)\n",
    "    \n",
    "    JTJ = jacobian.T @ jacobian\n",
    "    chi_square = jnp.sum(residual ** 2)\n",
    "    dof = residual.shape[0] - free_params\n",
    "    s_sq = chi_square / dof\n",
    "\n",
    "    # Add small diagonal term to avoid singular matrix\n",
    "    cov = jnp.linalg.inv(JTJ + 1e-6 * jnp.eye(params_i.shape[0])) * s_sq\n",
    "    return jnp.sqrt(jnp.diag(cov))  # shape: (n_params,)\n"
   ]
  },
  {
   "cell_type": "code",
   "execution_count": null,
   "id": "8d8e87f5",
   "metadata": {},
   "outputs": [],
   "source": [
    "jacobian = jax.vmap(jax.grad(lambda p, xi, yi: jnp.abs(yi - model(xi,p )) ))(sheapclass.params, x, y)"
   ]
  }
 ],
 "metadata": {
  "kernelspec": {
   "display_name": "jax",
   "language": "python",
   "name": "python3"
  },
  "language_info": {
   "codemirror_mode": {
    "name": "ipython",
    "version": 3
   },
   "file_extension": ".py",
   "mimetype": "text/x-python",
   "name": "python",
   "nbconvert_exporter": "python",
   "pygments_lexer": "ipython3",
   "version": "3.12.8"
  }
 },
 "nbformat": 4,
 "nbformat_minor": 5
}
